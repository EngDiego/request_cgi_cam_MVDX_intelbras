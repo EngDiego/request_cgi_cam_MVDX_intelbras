{
 "metadata": {
  "language_info": {
   "codemirror_mode": {
    "name": "ipython",
    "version": 3
   },
   "file_extension": ".py",
   "mimetype": "text/x-python",
   "name": "python",
   "nbconvert_exporter": "python",
   "pygments_lexer": "ipython3",
   "version": "3.9.4"
  },
  "orig_nbformat": 2,
  "kernelspec": {
   "name": "python394jvsc74a57bd01440a9cca3dcddca67ad8c4bb85b19f4a37616bdfcb3445bb6395f90b40da284",
   "display_name": "Python 3.9.4 64-bit"
  },
  "metadata": {
   "interpreter": {
    "hash": "1440a9cca3dcddca67ad8c4bb85b19f4a37616bdfcb3445bb6395f90b40da284"
   }
  }
 },
 "nbformat": 4,
 "nbformat_minor": 2,
 "cells": [
  {
   "cell_type": "code",
   "execution_count": 4,
   "metadata": {},
   "outputs": [],
   "source": [
    "import requests"
   ]
  },
  {
   "cell_type": "code",
   "execution_count": 7,
   "metadata": {},
   "outputs": [],
   "source": [
    "url='http://192.168.15.32:80/cgi-bin/snapshot.cgi?channel=1&subtype=1'\n",
    "\n",
    "user='admin'\n",
    "password='xxxx'\n",
    "file = open(\"picture.jpg\", 'wb')"
   ]
  },
  {
   "cell_type": "code",
   "execution_count": 8,
   "metadata": {},
   "outputs": [],
   "source": [
    "credentials = requests.auth.HTTPDigestAuth(user, password)\n",
    "\n",
    "with requests.get(url, auth=credentials, stream=True) as response:\n",
    "    for chunk in response.iter_content(chunk_size=128):\n",
    "        file.write(chunk)\n",
    "\n",
    "file.close()"
   ]
  },
  {
   "cell_type": "code",
   "execution_count": null,
   "metadata": {},
   "outputs": [],
   "source": []
  }
 ]
}